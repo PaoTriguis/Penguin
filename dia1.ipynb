{
 "cells": [
  {
   "cell_type": "markdown",
   "metadata": {},
   "source": [
    "# Primer encuentro con Python"
   ]
  },
  {
   "cell_type": "code",
   "execution_count": 3,
   "metadata": {},
   "outputs": [
    {
     "name": "stdout",
     "output_type": "stream",
     "text": [
      "Hola Mundo\n"
     ]
    }
   ],
   "source": [
    "print(\"Hola Mundo\")"
   ]
  },
  {
   "cell_type": "markdown",
   "metadata": {},
   "source": [
    "# Variables "
   ]
  },
  {
   "cell_type": "code",
   "execution_count": 4,
   "metadata": {},
   "outputs": [
    {
     "name": "stdout",
     "output_type": "stream",
     "text": [
      "10\n"
     ]
    }
   ],
   "source": [
    "numero1 = 10\n",
    "print(numero1)"
   ]
  },
  {
   "cell_type": "markdown",
   "metadata": {},
   "source": [
    "# Ejemplo con Hola Mundo"
   ]
  },
  {
   "cell_type": "code",
   "execution_count": 5,
   "metadata": {},
   "outputs": [
    {
     "name": "stdout",
     "output_type": "stream",
     "text": [
      "Hola Mundo\n"
     ]
    }
   ],
   "source": [
    "saludo = \"Hola Mundo\"\n",
    "print(saludo)\n"
   ]
  },
  {
   "cell_type": "markdown",
   "metadata": {},
   "source": [
    "# Tipos de Datos"
   ]
  },
  {
   "cell_type": "code",
   "execution_count": 8,
   "metadata": {},
   "outputs": [
    {
     "name": "stdout",
     "output_type": "stream",
     "text": [
      "maitei\n",
      "100\n",
      "3.14\n"
     ]
    }
   ],
   "source": [
    "saludo = \"maitei\" # texto -> strings -> str\n",
    "\n",
    "cantidad = 100 # numero entero -> integer -> int\n",
    "\n",
    "pi = 3.14 # numero decimal -> floating number -> float\n",
    "\n",
    "print(saludo)\n",
    "print(cantidad)\n",
    "print(pi)"
   ]
  },
  {
   "cell_type": "markdown",
   "metadata": {},
   "source": [
    "# Operaciones aritmeticas"
   ]
  },
  {
   "cell_type": "code",
   "execution_count": 9,
   "metadata": {},
   "outputs": [
    {
     "name": "stdout",
     "output_type": "stream",
     "text": [
      "24\n",
      "0\n",
      "36\n",
      "5.5\n",
      "9.0\n"
     ]
    }
   ],
   "source": [
    "# Suma\n",
    "print(7 + 8 + 9)\n",
    "\n",
    "# Resta\n",
    "print(10 - 10)\n",
    "\n",
    "# Multiplicacion\n",
    "print(12 * 3)\n",
    "\n",
    "# Division\n",
    "print(11 / 2)\n",
    "\n",
    "# Python obedece a la regla matematica de la precedencia de operadores\n",
    "print(2 * 2 + 12 / 2 - 1)\n",
    "\n"
   ]
  },
  {
   "cell_type": "markdown",
   "metadata": {},
   "source": [
    "# Challenge\n",
    "\n",
    "1. Suma: asignar dos números en dos variables diferentes cantidad_de_manzanas y cantidad_de_naranjas. Luego sumar ambas variables en cantidad_de_frutas. Imprimir la última variable.\n",
    "\n",
    "2. Resta: asignar un valor numérico a la variable frutas_comidas. Luego, asignar la resta entre cantidad_de_frutas y frutas_comidas a la variable frutas_restantes. Imprimir la última variable."
   ]
  },
  {
   "cell_type": "code",
   "execution_count": 11,
   "metadata": {},
   "outputs": [
    {
     "name": "stdout",
     "output_type": "stream",
     "text": [
      "16\n",
      "10\n"
     ]
    }
   ],
   "source": [
    "cantidad_de_manzanas = 12\n",
    "cantidad_de_naranjas = 4\n",
    "cantidad_de_frutas = cantidad_de_manzanas + cantidad_de_naranjas\n",
    "print(cantidad_de_frutas)\n",
    "\n",
    "frutas_comidas = 6\n",
    "frutas_restantes = cantidad_de_frutas - frutas_comidas\n",
    "print(frutas_restantes)"
   ]
  },
  {
   "cell_type": "markdown",
   "metadata": {},
   "source": [
    "# Jugando con texto"
   ]
  },
  {
   "cell_type": "code",
   "execution_count": 15,
   "metadata": {},
   "outputs": [
    {
     "name": "stdout",
     "output_type": "stream",
     "text": [
      "Emmanuel Rufinelli\n",
      "Emmanuel Rufinelli\n"
     ]
    }
   ],
   "source": [
    "nombre = \"Emmanuel\"\n",
    "apellido = \"Rufinelli\"\n",
    "\n",
    "# Concatenacion\n",
    "print(nombre + \" \" + apellido)\n",
    "\n",
    "# Dos variables\n",
    "print(nombre, apellido)\n"
   ]
  },
  {
   "cell_type": "markdown",
   "metadata": {},
   "source": [
    "# Challenge\n",
    "\n",
    "1. Asignar el nombre y el apellido de tu compañero/a a las variables nombre y apellido. Luego, imprimir la siguiente frase utilizando las variables: \"Hola. Mi nombre es Enmanuel Rufinelli. Mucho gusto.\""
   ]
  },
  {
   "cell_type": "code",
   "execution_count": 19,
   "metadata": {},
   "outputs": [
    {
     "name": "stdout",
     "output_type": "stream",
     "text": [
      "Hola. Mi nombre es Tanasha Paredes. Mucho gusto.\n"
     ]
    }
   ],
   "source": [
    "nombre = \"Tenasha\"\n",
    "apellido = \"Paredes\"\n",
    "frase = \"Hola. Mi nombre es \" + nombre + \" \" + apellido + \". Mucho gusto.\"\n",
    "print(frase)"
   ]
  },
  {
   "cell_type": "markdown",
   "metadata": {},
   "source": [
    "# Obteniendo datos del usuario"
   ]
  },
  {
   "cell_type": "code",
   "execution_count": 24,
   "metadata": {},
   "outputs": [
    {
     "name": "stdout",
     "output_type": "stream",
     "text": [
      "4\n",
      "7\n",
      "47\n",
      "<class 'str'>\n",
      "<class 'str'>\n"
     ]
    }
   ],
   "source": [
    "# Primer ingreso\n",
    "numero1 = input(\"Escriba un número, por favor: \")\n",
    "print(numero1)\n",
    "\n",
    "# Segundo ingreso\n",
    "numero2 = input(\"Escriba otro número, por favor: \")\n",
    "print(numero2)\n",
    "\n",
    "# Suma de datos del usuario\n",
    "suma_de_numeros = numero1 + numero2\n",
    "print(suma_de_numeros)\n",
    "\n",
    "# Identificar el tipo de dato\n",
    "print(type(numero1))\n",
    "print(type(numero2))\n"
   ]
  },
  {
   "cell_type": "code",
   "execution_count": 26,
   "metadata": {},
   "outputs": [
    {
     "name": "stdout",
     "output_type": "stream",
     "text": [
      "4\n",
      "7\n",
      "<class 'int'>\n",
      "<class 'int'>\n",
      "11\n"
     ]
    }
   ],
   "source": [
    "# Primer ingreso\n",
    "numero1 = input(\"Escriba un número, por favor: \")\n",
    "print(numero1)\n",
    "\n",
    "# Segundo ingreso\n",
    "numero2 = input(\"Escriba otro número, por favor: \")\n",
    "print(numero2)\n",
    "\n",
    "# Conversion \n",
    "numero1 = int(numero1)\n",
    "numero2 = int(numero2)\n",
    "\n",
    "# Identificar el tipo de dato\n",
    "print(type(numero1))\n",
    "print(type(numero2))\n",
    "\n",
    "# Suma de datos del usuario\n",
    "suma_de_numeros = numero1 + numero2\n",
    "print(suma_de_numeros)"
   ]
  },
  {
   "cell_type": "markdown",
   "metadata": {},
   "source": [
    "# Funciones"
   ]
  },
  {
   "cell_type": "code",
   "execution_count": 27,
   "metadata": {},
   "outputs": [
    {
     "name": "stdout",
     "output_type": "stream",
     "text": [
      "Buenas tardes, penguins!\n"
     ]
    }
   ],
   "source": [
    "# Funcion con texto\n",
    "\n",
    "def mi_funcion(): \n",
    "    print(\"Buenas tardes, penguins!\")\n",
    "\n",
    "mi_funcion()"
   ]
  },
  {
   "cell_type": "markdown",
   "metadata": {},
   "source": [
    "# Parametros y Argumentos"
   ]
  },
  {
   "cell_type": "code",
   "execution_count": 34,
   "metadata": {},
   "outputs": [
    {
     "name": "stdout",
     "output_type": "stream",
     "text": [
      "Hola. Mi nombre es Paola!\n",
      "Hola. Mi nombre es Magali!\n",
      "HolaRuthie. SoyEnmanuel y te doy la bienvenida a Penguin!\n"
     ]
    }
   ],
   "source": [
    "def mi_print(nombre):\n",
    "    print(\"Hola. Mi nombre es \" + nombre + \"!\")\n",
    "\n",
    "mi_print(\"Paola\")\n",
    "mi_print(\"Magali\")\n",
    "\n",
    "def mi_print_de_bienvenida(nombre_alumno, nombre_coach):\n",
    "    print(\"Hola\" + nombre_alumno + \". Soy\" + nombre_coach + \" y te doy la bienvenida a Penguin!\")\n",
    "\n",
    "mi_print_de_bienvenida(\"Ruthie\", \"Enmanuel\")"
   ]
  },
  {
   "cell_type": "markdown",
   "metadata": {},
   "source": [
    "# Challenge\n",
    "\n",
    "Definir una función que tome dos números como parámetros y los imprima sumándolos."
   ]
  },
  {
   "cell_type": "code",
   "execution_count": 37,
   "metadata": {},
   "outputs": [
    {
     "name": "stdout",
     "output_type": "stream",
     "text": [
      "15\n"
     ]
    }
   ],
   "source": [
    "def suma(numero_uno, numero_dos):\n",
    "    print(numero_uno + numero_dos)\n",
    "\n",
    "suma(5, 10)\n"
   ]
  },
  {
   "cell_type": "markdown",
   "metadata": {},
   "source": [
    "# Challenge propio"
   ]
  },
  {
   "cell_type": "code",
   "execution_count": 36,
   "metadata": {},
   "outputs": [
    {
     "name": "stdout",
     "output_type": "stream",
     "text": [
      "Tu nombre es Paola\n"
     ]
    }
   ],
   "source": [
    "usuario = input(\"Escribe tu nombre\")\n",
    "def devolucion():\n",
    "    print(\"Tu nombre es \" + usuario)\n",
    "\n",
    "devolucion()"
   ]
  },
  {
   "cell_type": "markdown",
   "metadata": {},
   "source": [
    "# Alcance (scope)"
   ]
  },
  {
   "cell_type": "code",
   "execution_count": 39,
   "metadata": {},
   "outputs": [
    {
     "name": "stdout",
     "output_type": "stream",
     "text": [
      "2000\n"
     ]
    }
   ],
   "source": [
    "def imprimir_precio():\n",
    "    valor = 2000\n",
    "    print(valor)\n",
    "\n",
    "imprimir_precio()"
   ]
  },
  {
   "cell_type": "code",
   "execution_count": 40,
   "metadata": {},
   "outputs": [
    {
     "name": "stdout",
     "output_type": "stream",
     "text": [
      "10000\n"
     ]
    }
   ],
   "source": [
    "# Alcance global\n",
    "\n",
    "precio_global = 10000\n",
    "\n",
    "def imprimir_precio():\n",
    "    print(precio_global)\n",
    "\n",
    "imprimir_precio()"
   ]
  },
  {
   "cell_type": "markdown",
   "metadata": {},
   "source": [
    "# Función personalizada vs función built-in"
   ]
  },
  {
   "cell_type": "code",
   "execution_count": 42,
   "metadata": {},
   "outputs": [
    {
     "data": {
      "text/plain": [
       "15"
      ]
     },
     "execution_count": 42,
     "metadata": {},
     "output_type": "execute_result"
    }
   ],
   "source": [
    "numeros = [1, 4, 10]\n",
    "sum(numeros)"
   ]
  },
  {
   "cell_type": "markdown",
   "metadata": {},
   "source": [
    "# Challenge\n",
    "\n",
    "Escribir una función que calcule el total a abonar por IVA según un monto. La función debe recibir un monto (sin IVA), y devolver el monto a ser abonado solamente por IVA (10%).\n",
    "\n",
    "Observación:\n",
    "\n",
    "1. Para calcular el IVA (10%) multiplicamos por 0.11\n",
    "2. Para redondear un número, utilizamos la función round()\n",
    "3. Para convertir a texto un número, utilizamos la función str()"
   ]
  },
  {
   "cell_type": "code",
   "execution_count": 47,
   "metadata": {},
   "outputs": [
    {
     "name": "stdout",
     "output_type": "stream",
     "text": [
      "El monto de IVA a ser abonado es de 11000 guaraníes\n"
     ]
    }
   ],
   "source": [
    "def total_a_abonar(monto):\n",
    "    iva = monto * 0.11\n",
    "    monto_redondeado = round(iva)\n",
    "    monto_a_texto = str(monto_redondeado)\n",
    "    print(\"El monto de IVA a ser abonado es de \" + monto_a_texto + \" guaraníes\")\n",
    "\n",
    "total_a_abonar(100000)\n"
   ]
  },
  {
   "cell_type": "code",
   "execution_count": 58,
   "metadata": {},
   "outputs": [
    {
     "name": "stdout",
     "output_type": "stream",
     "text": [
      "El monto de IVA a ser abonado es de 11000 guaraníes\n"
     ]
    }
   ],
   "source": [
    "def total_a_abonar(monto):\n",
    "    conversion = int(monto)\n",
    "    iva = conversion * 0.11\n",
    "    monto_redondeado = round(iva)\n",
    "    monto_a_texto = str(monto_redondeado)\n",
    "    print(\"El monto de IVA a ser abonado es de \" + monto_a_texto + \" guaraníes\")\n",
    "\n",
    "total_a_abonar(input(\"Escribe el costo total del producto\"))"
   ]
  },
  {
   "cell_type": "markdown",
   "metadata": {},
   "source": [
    "# Condicionales"
   ]
  },
  {
   "cell_type": "code",
   "execution_count": 63,
   "metadata": {},
   "outputs": [
    {
     "name": "stdout",
     "output_type": "stream",
     "text": [
      "Jubilada\n"
     ]
    }
   ],
   "source": [
    "edad_laboral = 65\n",
    "\n",
    "if edad_laboral < 18:\n",
    "    print(\"Menor de edad\")\n",
    "elif edad_laboral >= 65:\n",
    "    print(\"Jubilada\")\n",
    "else:\n",
    "    print(\"Activo laboralmente\")"
   ]
  }
 ],
 "metadata": {
  "interpreter": {
   "hash": "b990a3571c3fd9b7e25744035060680d5412a5ffcd1472b2ec31ca40df9a541f"
  },
  "kernelspec": {
   "display_name": "Python 3.10.4 64-bit (windows store)",
   "language": "python",
   "name": "python3"
  },
  "language_info": {
   "codemirror_mode": {
    "name": "ipython",
    "version": 3
   },
   "file_extension": ".py",
   "mimetype": "text/x-python",
   "name": "python",
   "nbconvert_exporter": "python",
   "pygments_lexer": "ipython3",
   "version": "3.10.4"
  },
  "orig_nbformat": 4
 },
 "nbformat": 4,
 "nbformat_minor": 2
}
