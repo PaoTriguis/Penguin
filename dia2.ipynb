{
 "cells": [
  {
   "cell_type": "markdown",
   "metadata": {},
   "source": [
    "# Condicionales"
   ]
  },
  {
   "cell_type": "code",
   "execution_count": null,
   "metadata": {},
   "outputs": [],
   "source": [
    "edad_laboral = 65\n",
    "\n",
    "if edad_laboral < 18:\n",
    "    print(\"Menor de edad\")\n",
    "elif edad_laboral >= 65:\n",
    "    print(\"Jubilada\")\n",
    "else:\n",
    "    print(\"Activo laboralmente\")"
   ]
  },
  {
   "cell_type": "markdown",
   "metadata": {},
   "source": [
    "# Dos condiciones a la vez"
   ]
  },
  {
   "cell_type": "code",
   "execution_count": 2,
   "metadata": {},
   "outputs": [
    {
     "name": "stdout",
     "output_type": "stream",
     "text": [
      "Jubilada\n"
     ]
    }
   ],
   "source": [
    "edad_laboral = 70\n",
    "trabaja = False # Booleano\n",
    "\n",
    "if edad_laboral < 18:\n",
    "    print(\"Estudiante menor de edad\")\n",
    "elif edad_laboral < 65 and trabaja == True:\n",
    "    print(\"Activo laboralmente\")\n",
    "elif edad_laboral < 65 and trabaja == False:\n",
    "    print(\"Estudiante\")\n",
    "else:\n",
    "    print(\"Jubilada\")"
   ]
  },
  {
   "cell_type": "markdown",
   "metadata": {},
   "source": [
    "# Challenge\n",
    "\n",
    "Escribir un programa en el que se pregunte al usuario por una temperatura (en grados Celsius), imprima la temperatura escrita, y luego clasificar la temperatura ingresada en 3 niveles:\n",
    "\n",
    "1. Entre -10 y 18 grados, que imprima \"Fresquete\".\n",
    "2. Entre 19 y 30 grados, que imprima \"Calor\".\n",
    "3. Entre 31 y 45 grados, que imprima \"Hakuuuuu\".\n",
    "4. Para todo lo demás, imprimir \"Ñamano mba'e!\"."
   ]
  },
  {
   "cell_type": "code",
   "execution_count": 21,
   "metadata": {},
   "outputs": [
    {
     "name": "stdout",
     "output_type": "stream",
     "text": [
      "La temperatura es de 21 grados Celsius.\n",
      "Calor\n"
     ]
    }
   ],
   "source": [
    "temperatura = input(\"Escriba la temperatura actual en grados Celsius\")\n",
    "\n",
    "def clima(temperatura):\n",
    "    print(\"La temperatura es de \" + temperatura + \" grados Celsius.\")\n",
    "\n",
    "conversion = int(temperatura)\n",
    "\n",
    "def clasificacion(conversion):\n",
    "\n",
    "    if conversion <= 18:\n",
    "        print(\"Fresquete\")\n",
    "    elif conversion > 18 and conversion <= 30:\n",
    "        print(\"Calor\")\n",
    "    elif conversion > 30 and conversion <= 45:\n",
    "        print(\"Hakuuuuuuu\")\n",
    "    else:\n",
    "        print(\"Ñamano mba'e!\")\n",
    "\n",
    "clima(temperatura)\n",
    "clasificacion(conversion)"
   ]
  },
  {
   "cell_type": "code",
   "execution_count": 25,
   "metadata": {},
   "outputs": [
    {
     "name": "stdout",
     "output_type": "stream",
     "text": [
      "21\n",
      "Calor\n"
     ]
    }
   ],
   "source": [
    "temperatura = int(input(\"Escriba la temperatura actual en grados Celsius\"))\n",
    "\n",
    "def clima(temperatura):\n",
    "    print(temperatura)\n",
    "\n",
    "def clasificacion(temperatura):\n",
    "\n",
    "    if temperatura <= 18:\n",
    "        print(\"Fresquete\")\n",
    "    elif temperatura > 18 and temperatura <= 30:\n",
    "        print(\"Calor\")\n",
    "    elif temperatura > 30 and temperatura <= 45:\n",
    "        print(\"Hakuuuuuuu\")\n",
    "    else:\n",
    "        print(\"Ñamano mba'e!\")\n",
    "\n",
    "clima(temperatura)\n",
    "clasificacion(temperatura)"
   ]
  },
  {
   "cell_type": "markdown",
   "metadata": {},
   "source": [
    "# Bucles condicionales: while"
   ]
  },
  {
   "cell_type": "code",
   "execution_count": 28,
   "metadata": {},
   "outputs": [
    {
     "name": "stdout",
     "output_type": "stream",
     "text": [
      "9\n",
      "0\n"
     ]
    }
   ],
   "source": [
    "numero = None\n",
    "\n",
    "while numero != 0:\n",
    "    numero = int(input(\"Introduce un numero\"))\n",
    "    print(numero)"
   ]
  },
  {
   "cell_type": "code",
   "execution_count": null,
   "metadata": {},
   "outputs": [],
   "source": [
    "while True:\n",
    "    palabra = input(\"Introduce una palabra\")\n",
    "    if palabra == \"salir\" or palabra == \"chau\":\n",
    "        break\n",
    "    print(palabra)"
   ]
  },
  {
   "cell_type": "markdown",
   "metadata": {},
   "source": [
    "# Challenge\n",
    "\n",
    "Escribir un programa que almacene una contraseña en una variable, y pregunte al usuario por la contraseña hasta que introduzca la contraseña correcta."
   ]
  },
  {
   "cell_type": "markdown",
   "metadata": {},
   "source": [
    "while True:\n",
    "    constraseña = input(\"Introduce la contraseña correcta\")\n",
    "    if constraseña == \"penguin\":\n",
    "        print(\"Gracias por ingresar la contraseña correcta.\")\n",
    "        break        \n",
    "    else:\n",
    "        print(\"Esa no es la contraseña correcta. Intente de nuevo.\")"
   ]
  },
  {
   "cell_type": "markdown",
   "metadata": {},
   "source": [
    "# Listas"
   ]
  },
  {
   "cell_type": "code",
   "execution_count": null,
   "metadata": {},
   "outputs": [],
   "source": [
    "lista_de_frutas = [\"naranjas\", \"peras\", \"kiwis\", \"sandias\"]\n",
    "\n",
    "# Diferentes tipos de datos en listas\n",
    "lista_booleana = [True, False, False, True]\n",
    "lista_numeros = [1.99, 2, 3, 4]\n",
    "lista_variada = [\"peras\", 10, False]\n",
    "\n",
    "# Acceder a elementos de la lista\n",
    "print(lista_de_frutas[0])\n",
    "print(lista_de_frutas[2])\n",
    "\n",
    "# Contar elementos de una lista\n",
    "print(len(lista_de_frutas))\n",
    "\n",
    "# Agregar elementos a una lista\n",
    "lista_de_frutas.append(\"ciruelas\")\n",
    "print(lista_de_frutas)\n",
    "\n",
    "# Agregar elemento eligiendo la posicion\n",
    "lista_de_frutas.insert(1, \"duraznos\")\n",
    "print(lista_de_frutas)\n",
    "\n",
    "# Eliminar elemento por valor\n",
    "lista_de_frutas.remove(\"sandias\")\n",
    "print(lista_de_frutas)\n",
    "\n",
    "# Eliminar por posicion\n",
    "lista_de_frutas.pop(1)\n",
    "print(lista_de_frutas)\n"
   ]
  },
  {
   "cell_type": "markdown",
   "metadata": {},
   "source": [
    "# Challenge\n",
    "Crear una lista con los integrantes de la mesa\n",
    "\n",
    "Imprimir:\n",
    "Integrante 1: Fabri\n",
    "Integrante 2: Clau"
   ]
  },
  {
   "cell_type": "code",
   "execution_count": 4,
   "metadata": {},
   "outputs": [
    {
     "name": "stdout",
     "output_type": "stream",
     "text": [
      "Integrante 1: Gloria\n",
      "Integrante 2: Paola\n",
      "Integrante 3: Ana\n",
      "Integrante 4: Adri\n"
     ]
    }
   ],
   "source": [
    "integrantes_de_mesa = [\"Gloria\", \"Paola\", \"Ana\", \"Adri\"]\n",
    "print(\"Integrante 1: \" + integrantes_de_mesa[0])\n",
    "print(\"Integrante 2: \" + integrantes_de_mesa[1])\n",
    "print(\"Integrante 3: \" + integrantes_de_mesa[2])\n",
    "print(\"Integrante 4: \" + integrantes_de_mesa[3])"
   ]
  },
  {
   "cell_type": "markdown",
   "metadata": {},
   "source": [
    "# Bucles iterativos: for"
   ]
  },
  {
   "cell_type": "code",
   "execution_count": 9,
   "metadata": {},
   "outputs": [
    {
     "name": "stdout",
     "output_type": "stream",
     "text": [
      "h\n",
      "o\n",
      "a\n"
     ]
    }
   ],
   "source": [
    "palabra = input(\"Introduzca una palabra: \")\n",
    "\n",
    "for letra in palabra:\n",
    "    print(letra)"
   ]
  },
  {
   "cell_type": "code",
   "execution_count": 5,
   "metadata": {},
   "outputs": [
    {
     "name": "stdout",
     "output_type": "stream",
     "text": [
      "- pan\n",
      "- mantequilla\n",
      "- arandanos\n",
      "- miel\n"
     ]
    }
   ],
   "source": [
    "lista_compras = ['pan', 'mantequilla', 'arandanos', 'miel']\n",
    "\n",
    "for cosas in lista_compras:\n",
    "    print('-', cosas)"
   ]
  },
  {
   "cell_type": "code",
   "execution_count": 2,
   "metadata": {},
   "outputs": [
    {
     "name": "stdout",
     "output_type": "stream",
     "text": [
      "Steven tqm\n",
      "Steven tqm\n",
      "Steven tqm\n",
      "Steven tqm\n",
      "Steven tqm\n",
      "Steven tqm\n",
      "Steven tqm\n",
      "Steven tqm\n"
     ]
    }
   ],
   "source": [
    "for frase in range(8):\n",
    "    print('Steven tqm')"
   ]
  },
  {
   "cell_type": "markdown",
   "metadata": {},
   "source": [
    "# Challenge\n",
    "\n",
    "Escribir un programa en el que se pregunte al usuario por una frase y una letra, y muestre por pantalla el número de veces que aparece la letra en la frase."
   ]
  },
  {
   "cell_type": "code",
   "execution_count": 19,
   "metadata": {},
   "outputs": [
    {
     "name": "stdout",
     "output_type": "stream",
     "text": [
      "La letra aparece 2 veces en la frase\n"
     ]
    }
   ],
   "source": [
    "frase = input('Escribe una frase')\n",
    "letra_ingresada = input('Escribe una letra')\n",
    "contador = 0\n",
    "\n",
    "for letra in frase:\n",
    "    if letra_ingresada == letra:\n",
    "        contador = contador + 1\n",
    "        # contador += 1 es lo mismo que contador = contador + 1\n",
    "\n",
    "print('La letra aparece ' + str(contador) + ' veces en la frase')\n"
   ]
  },
  {
   "cell_type": "markdown",
   "metadata": {},
   "source": [
    "# Proyecto: Wordle"
   ]
  },
  {
   "cell_type": "code",
   "execution_count": 8,
   "metadata": {},
   "outputs": [
    {
     "name": "stdout",
     "output_type": "stream",
     "text": [
      "['p', 'i', 'a', 'n', 'o']\n",
      "La letra <p> está en la palabra que tenés que adivinar.\n",
      "La letra <a> está en la palabra que tenés que adivinar.\n",
      "La letra <i> está en la palabra que tenés que adivinar.\n",
      "La letra <o> está en la palabra que tenés que adivinar.\n",
      "La primera letra de tu palabra coincide con la primera letra de la palabra a adivinar\n",
      "La quinta letra de tu palabra coincide con la quinta letra de la palabra a adivinar\n"
     ]
    }
   ],
   "source": [
    "# Palabra a adivinar\n",
    "palabra_a_adivinar = 'patio'\n",
    "caracteres_a_adivinar = ['p','a','t','i','o']\n",
    "\n",
    "# Palabra ingresada por el usuario\n",
    "palabra_ingresada = input('Escribe una palabra de cinco letras')\n",
    "caracteres_ingresados = list(palabra_ingresada)\n",
    "print(caracteres_ingresados)\n",
    "longitud_palabra = len(caracteres_ingresados)\n",
    "if longitud_palabra == 5:\n",
    "# Comparacion de palabras\n",
    "    for letra in caracteres_a_adivinar:\n",
    "        for caracter in caracteres_ingresados:\n",
    "            if(letra==caracter):\n",
    "                print('La letra <' + letra + '> está en la palabra que tenés que adivinar.')\n",
    "\n",
    "# Chequeo del orden de las letras\n",
    "    if caracteres_a_adivinar[0] == caracteres_ingresados[0]:\n",
    "        print('La primera letra de tu palabra coincide con la primera letra de la palabra a adivinar')\n",
    "    if caracteres_a_adivinar[1] == caracteres_ingresados[1]:\n",
    "        print('La segunda letra de tu palabra coincide con la segunda letra de la palabra a adivinar')\n",
    "    if caracteres_a_adivinar[2] == caracteres_ingresados[2]:\n",
    "        print('La tercera letra de tu palabra coincide con la tercera letra de la palabra a adivinar')\n",
    "    if caracteres_a_adivinar[3] == caracteres_ingresados[3]:\n",
    "        print('La cuarta letra de tu palabra coincide con la cuarta letra de la palabra a adivinar')\n",
    "    if caracteres_a_adivinar[4] == caracteres_ingresados[4]:\n",
    "        print('La quinta letra de tu palabra coincide con la quinta letra de la palabra a adivinar')\n",
    "\n",
    "# Confirmacion de que la palabra fue adivinada \n",
    "    if caracteres_a_adivinar[0] == caracteres_ingresados[0] and caracteres_a_adivinar[1] == caracteres_ingresados[1] and caracteres_a_adivinar[2] == caracteres_ingresados[2] and caracteres_a_adivinar[3] == caracteres_ingresados[3] and caracteres_a_adivinar[4] == caracteres_ingresados[4]:\n",
    "        print('Felicidades! Adivinaste la palabra!')\n",
    "\n",
    "# Exigencia de cinco letras\n",
    "else:\n",
    "    print('La palabra que ingresó no tiene cinco letras. Por favor ingrese una palabra de cinco letras.')\n",
    "        \n",
    "# Numero de intentos"
   ]
  }
 ],
 "metadata": {
  "interpreter": {
   "hash": "b990a3571c3fd9b7e25744035060680d5412a5ffcd1472b2ec31ca40df9a541f"
  },
  "kernelspec": {
   "display_name": "Python 3.10.4 64-bit (windows store)",
   "language": "python",
   "name": "python3"
  },
  "language_info": {
   "codemirror_mode": {
    "name": "ipython",
    "version": 3
   },
   "file_extension": ".py",
   "mimetype": "text/x-python",
   "name": "python",
   "nbconvert_exporter": "python",
   "pygments_lexer": "ipython3",
   "version": "3.10.4"
  },
  "orig_nbformat": 4
 },
 "nbformat": 4,
 "nbformat_minor": 2
}
