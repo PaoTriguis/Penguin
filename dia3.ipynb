{
 "cells": [
  {
   "cell_type": "markdown",
   "metadata": {},
   "source": [
    "# Challenge \n",
    "\n",
    "Crear una funcion que imprima la variable palabra"
   ]
  },
  {
   "cell_type": "code",
   "execution_count": 6,
   "metadata": {},
   "outputs": [
    {
     "name": "stdout",
     "output_type": "stream",
     "text": [
      "Estoy imprimiendo una palabra\n"
     ]
    }
   ],
   "source": [
    "def impresion():\n",
    "    palabra = 'Estoy imprimiendo una palabra'\n",
    "    print(palabra)\n",
    "\n",
    "impresion()"
   ]
  },
  {
   "cell_type": "markdown",
   "metadata": {},
   "source": [
    " Si escribimos tres guiones --- nos separa las secciones con una linea, así como abajo"
   ]
  },
  {
   "cell_type": "markdown",
   "metadata": {},
   "source": [
    "---"
   ]
  },
  {
   "cell_type": "markdown",
   "metadata": {},
   "source": [
    "# Challenge 2\n",
    "\n",
    "Crear una función que reciba dos letras (parámetros) y que verifique si son iguales:\n",
    "\n",
    "1. Si son iguales, imprimir \"Las letras son iguales.\"\n",
    "2. De lo contrario, imprimir \"Las letras son diferentes.\""
   ]
  },
  {
   "cell_type": "code",
   "execution_count": 11,
   "metadata": {},
   "outputs": [
    {
     "name": "stdout",
     "output_type": "stream",
     "text": [
      "Las letras son diferentes\n",
      "Las letras son iguales\n"
     ]
    }
   ],
   "source": [
    "def verificador(letra1, letra2):\n",
    "    if letra1 == letra2:\n",
    "        print(\"Las letras son iguales\")\n",
    "    else:\n",
    "        print(\"Las letras son diferentes\")\n",
    "\n",
    "verificador(\"a\", \"b\")\n",
    "verificador(\"a\", \"a\")"
   ]
  },
  {
   "cell_type": "markdown",
   "metadata": {},
   "source": [
    "# Funciones: return"
   ]
  },
  {
   "cell_type": "code",
   "execution_count": 12,
   "metadata": {},
   "outputs": [
    {
     "name": "stdout",
     "output_type": "stream",
     "text": [
      "False\n"
     ]
    }
   ],
   "source": [
    "def verificar_si_las_palabras_coinciden(palabra_a_encontrar, palabra_ingresada):\n",
    "    palabras_son_iguales = palabra_a_encontrar == palabra_ingresada\n",
    "    if palabras_son_iguales:\n",
    "        return True\n",
    "    else:\n",
    "        return False\n",
    "    \n",
    "palabras_coinciden = verificar_si_las_palabras_coinciden('perro', 'gato')\n",
    "print(palabras_coinciden)"
   ]
  },
  {
   "cell_type": "markdown",
   "metadata": {},
   "source": [
    "# Challenge 3"
   ]
  },
  {
   "cell_type": "markdown",
   "metadata": {},
   "source": [
    "Crear una función que revise si una palabra contiene una letra. En caso de que la contenga, retornar la letra entre corchetes [ ]. De lo contrario, retornar solo la letra."
   ]
  },
  {
   "cell_type": "code",
   "execution_count": 15,
   "metadata": {},
   "outputs": [
    {
     "data": {
      "text/plain": [
       "'a'"
      ]
     },
     "execution_count": 15,
     "metadata": {},
     "output_type": "execute_result"
    }
   ],
   "source": [
    "def revisador(palabra, letra):\n",
    "    if letra in palabra:\n",
    "        return('[' + letra + ']')\n",
    "    else:\n",
    "        return(letra)\n",
    "\n",
    "revisador('pesto', 'a')\n",
    "    "
   ]
  },
  {
   "cell_type": "markdown",
   "metadata": {},
   "source": [
    "# Challenge 4\n",
    "\n",
    "Crear una función que reciba dos parámetros (una palabra y un número), y que devuelva True si el número es igual a la cantidad de letras de la palabra. En caso contrario, que devuelva False."
   ]
  },
  {
   "cell_type": "code",
   "execution_count": 21,
   "metadata": {},
   "outputs": [
    {
     "data": {
      "text/plain": [
       "False"
      ]
     },
     "execution_count": 21,
     "metadata": {},
     "output_type": "execute_result"
    }
   ],
   "source": [
    "def chequeo(palabreria, numero):\n",
    "    longitud = len(palabreria)\n",
    "    if longitud == numero:\n",
    "        return True\n",
    "    else:\n",
    "        return False  \n",
    "\n",
    "chequeo('hola', 5)"
   ]
  },
  {
   "cell_type": "code",
   "execution_count": 24,
   "metadata": {},
   "outputs": [
    {
     "data": {
      "text/plain": [
       "True"
      ]
     },
     "execution_count": 24,
     "metadata": {},
     "output_type": "execute_result"
    }
   ],
   "source": [
    "def chequeo(palabreria, numero):\n",
    "    if len(palabreria) == numero:\n",
    "        return True\n",
    "    else:\n",
    "        return False  \n",
    "\n",
    "chequeo(input(\"Escribe una palabra\"), int(input(\"Escribe un numero\")))"
   ]
  },
  {
   "cell_type": "markdown",
   "metadata": {},
   "source": [
    "# Funciones built-in: input( )"
   ]
  },
  {
   "cell_type": "code",
   "execution_count": 25,
   "metadata": {},
   "outputs": [
    {
     "name": "stdout",
     "output_type": "stream",
     "text": [
      "gola\n",
      "nubes\n"
     ]
    }
   ],
   "source": [
    "palabra_a_encontrar = input(\"Ingrese una palabra: \")\n",
    "print(palabra_a_encontrar)\n",
    "\n",
    "palabra_ingresada = input(\"Ingrese otra palabra\")\n",
    "print(palabra_ingresada)"
   ]
  },
  {
   "cell_type": "markdown",
   "metadata": {},
   "source": [
    "# Funciones built-in: list( )"
   ]
  },
  {
   "cell_type": "code",
   "execution_count": 26,
   "metadata": {},
   "outputs": [
    {
     "name": "stdout",
     "output_type": "stream",
     "text": [
      "['g', 'o', 'l', 'a']\n",
      "['n', 'u', 'b', 'e', 's']\n"
     ]
    }
   ],
   "source": [
    "# Convertimos la palabra a encontrar en una lista\n",
    "lista_de_letras_de_la_palabra_a_encontrar = list(palabra_a_encontrar)\n",
    "print(lista_de_letras_de_la_palabra_a_encontrar)\n",
    "\n",
    "lista_de_letras_de_la_palabra_ingresada = list(palabra_ingresada)\n",
    "print(lista_de_letras_de_la_palabra_ingresada)"
   ]
  },
  {
   "cell_type": "markdown",
   "metadata": {},
   "source": [
    "# Challenge 5\n",
    "\n",
    "Pedir al usuario que ingrese 1 palabra, luego convertir esa palabra a una lista con sus caracteres con list(). Agregar esa lista de caracteres a una lista llamada palabras_ingresadas. Repetir el proceso 3 veces. Cada vez que se agregue una lista de caracteres, imprimir la lista palabras_ingresadas."
   ]
  },
  {
   "cell_type": "code",
   "execution_count": null,
   "metadata": {},
   "outputs": [],
   "source": []
  },
  {
   "cell_type": "markdown",
   "metadata": {},
   "source": [
    "# Bucles 'for'"
   ]
  },
  {
   "cell_type": "code",
   "execution_count": null,
   "metadata": {},
   "outputs": [],
   "source": []
  },
  {
   "cell_type": "markdown",
   "metadata": {},
   "source": [
    "# Challenge 6\n",
    "\n",
    "Imprimir una grilla: Crear una función que imprima una grilla (lista de listas), una línea por cada lista dentro de la lista principal."
   ]
  },
  {
   "cell_type": "code",
   "execution_count": 88,
   "metadata": {},
   "outputs": [
    {
     "name": "stdout",
     "output_type": "stream",
     "text": [
      "['hola', 'prueba', 'caso']\n",
      "['otro', 'color', 'cabello']\n",
      "['otro', 'color', 'cabello']\n",
      "['hola', 'prueba', 'caso']\n",
      "['otro', 'color', 'cabello']\n",
      "['otro', 'color', 'cabello']\n"
     ]
    }
   ],
   "source": [
    "lista1 = ['hola', 'prueba', 'caso']\n",
    "lista2 = ['otro', 'color', 'cabello']\n",
    "lista_mas = [lista1, lista2]\n",
    "\n",
    "def impresor():\n",
    "    for elemento in lista_mas:\n",
    "        print(lista_mas[0])\n",
    "        for detalle in lista_mas:\n",
    "            print(lista_mas[1])\n",
    "\n",
    "impresor()\n",
    "\n"
   ]
  }
 ],
 "metadata": {
  "interpreter": {
   "hash": "b990a3571c3fd9b7e25744035060680d5412a5ffcd1472b2ec31ca40df9a541f"
  },
  "kernelspec": {
   "display_name": "Python 3.10.4 64-bit (windows store)",
   "language": "python",
   "name": "python3"
  },
  "language_info": {
   "codemirror_mode": {
    "name": "ipython",
    "version": 3
   },
   "file_extension": ".py",
   "mimetype": "text/x-python",
   "name": "python",
   "nbconvert_exporter": "python",
   "pygments_lexer": "ipython3",
   "version": "3.10.4"
  },
  "orig_nbformat": 4
 },
 "nbformat": 4,
 "nbformat_minor": 2
}
