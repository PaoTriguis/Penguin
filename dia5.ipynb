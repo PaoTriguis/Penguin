{
 "cells": [
  {
   "cell_type": "markdown",
   "metadata": {},
   "source": [
    "# Programación Orientada a Objetos"
   ]
  },
  {
   "cell_type": "code",
   "execution_count": null,
   "metadata": {},
   "outputs": [],
   "source": [
    "# Creando una clase vacía\n",
    "class Penguin:\n",
    "    pass\n",
    "\n",
    "# Creamos un objeto de la clase Penguin\n",
    "mi_pinguino = Penguin()"
   ]
  },
  {
   "cell_type": "markdown",
   "metadata": {},
   "source": [
    "# Definir atributos\n",
    "\n",
    "Dos tipos de atributos:\n",
    "\n",
    "- Atributos de instancia\n",
    "- Atributos de clase"
   ]
  },
  {
   "cell_type": "code",
   "execution_count": 7,
   "metadata": {},
   "outputs": [
    {
     "name": "stdout",
     "output_type": "stream",
     "text": [
      "Creando penguin: 'Enri',Emperador\n",
      "Creando penguin: 'Steven',Fachero\n",
      "Creando penguin: 'Alex',Cool\n",
      "<class '__main__.Penguin'>\n",
      "Ave\n",
      "Ave\n",
      "Enri\n",
      "Emperador\n",
      "Steven\n",
      "Fachero\n",
      "Alex\n",
      "Cool\n"
     ]
    }
   ],
   "source": [
    "# Crear clase\n",
    "class Penguin:\n",
    "    # Definiendo un atributo de clase\n",
    "    categoria = \"Ave\"\n",
    "\n",
    "    # El metodo__init__ es llamado al crear el objeto\n",
    "    def __init__(self, nombre, especie):\n",
    "        print(\"Creando penguin: \" + \"'\" + nombre + \"',\" + especie)\n",
    "\n",
    "        # Atributos de instancia\n",
    "        self.nombre = nombre \n",
    "        self.especie = especie\n",
    "\n",
    "# Creando un pinguino\n",
    "mi_pinguino = Penguin(\"Enri\", \"Emperador\")\n",
    "mi_otro_pinguino = Penguin(\"Steven\", \"Fachero\")\n",
    "mi_otra_pinguina = Penguin(\"Alex\", \"Cool\")\n",
    "\n",
    "# Viendo que tipo de dato es mi_pinguino\n",
    "print(type(mi_pinguino))\n",
    "\n",
    "# Viendo que clase de animal es \n",
    "print(Penguin.categoria)\n",
    "print(mi_pinguino.categoria)\n",
    "print(mi_pinguino.nombre)\n",
    "print(mi_pinguino.especie)\n",
    "print(mi_otro_pinguino.nombre)\n",
    "print(mi_otro_pinguino.especie)\n",
    "print(mi_otra_pinguina.nombre)\n",
    "print(mi_otra_pinguina.especie)\n"
   ]
  },
  {
   "cell_type": "markdown",
   "metadata": {},
   "source": [
    "# Challenge\n",
    "\n",
    "Crear dos class de animales que tengan atributos de instancia y de clase.\n",
    "\n",
    "- Atributo de instancia: nombre y color\n",
    "- Atributo de clase: especie\n",
    "\n",
    "Luego, crear nuevos objetos a partir de las nuevas class. Imprimir el nombre y el color de los animales en una frase que diga: \"Me llamo Alex y soy un ave de color blanco.\""
   ]
  },
  {
   "cell_type": "code",
   "execution_count": 13,
   "metadata": {},
   "outputs": [
    {
     "name": "stdout",
     "output_type": "stream",
     "text": [
      "Me llamo 'Timo' y soy un mamifero de color blanco y negro\n",
      "<class '__main__.Gato'>\n",
      "Me llamo 'Piolin' y soy un ave de color amarillo\n",
      "<class '__main__.Canario'>\n",
      "Me llamo 'Silvestre' y soy un mamifero de color blanco y negro\n",
      "<class '__main__.Gato'>\n",
      "Me llamo 'Tom' y soy un mamifero de color gris\n",
      "<class '__main__.Gato'>\n",
      "Me llamo 'Woodstock' y soy un ave de color amarillo\n",
      "<class '__main__.Canario'>\n"
     ]
    }
   ],
   "source": [
    "# Crear clase\n",
    "class Canario:\n",
    "    # Definiendo un atributo de clase\n",
    "    especie = \"ave\"\n",
    "\n",
    "    # El metodo__init__ es llamado al crear el objeto\n",
    "    def __init__(self, nombre, color):\n",
    "        print(\"Me llamo \" + \"'\" + nombre + \"' y soy un ave de color \" + color)\n",
    "\n",
    "        # Atributos de instancia\n",
    "        self.nombre = nombre \n",
    "        self.color = color\n",
    "\n",
    "# Crear clase\n",
    "class Gato:\n",
    "    # Definiendo un atributo de clase\n",
    "    especie = \"mamifero\"\n",
    "\n",
    "    # El metodo__init__ es llamado al crear el objeto\n",
    "    def __init__(self, nombre, color):\n",
    "        print(\"Me llamo \" + \"'\" + nombre + \"' y soy un mamifero de color \" + color)\n",
    "\n",
    "        # Atributos de instancia\n",
    "        self.nombre = nombre \n",
    "        self.color = color\n",
    "  \n",
    "# Creando animales\n",
    "mi_gato = Gato(\"Timo\", \"blanco y negro\")\n",
    "print(type(mi_gato))\n",
    "piolin = Canario(\"Piolin\", \"amarillo\")\n",
    "print(type(piolin))\n",
    "silvestre = Gato(\"Silvestre\", \"blanco y negro\")\n",
    "print(type(silvestre))\n",
    "tom = Gato(\"Tom\", \"gris\")\n",
    "print(type(tom))\n",
    "woodstock = Canario(\"Woodstock\", \"amarillo\")\n",
    "print(type(woodstock))"
   ]
  },
  {
   "cell_type": "markdown",
   "metadata": {},
   "source": [
    "# Definiendo métodos"
   ]
  },
  {
   "cell_type": "code",
   "execution_count": 17,
   "metadata": {},
   "outputs": [
    {
     "name": "stdout",
     "output_type": "stream",
     "text": [
      "Creando pinguino: 'Santi',Rey\n",
      "Santi\n",
      "Rey\n",
      "Wooooshhhh!!!!\n",
      "Caminando 99 pasos, lenta y torpemente\n",
      "El pinguino esta comiendo sushi\n"
     ]
    }
   ],
   "source": [
    "class Pinguino:\n",
    "    # Definiendo un atributo de clase\n",
    "    categoria = \"Ave\"\n",
    "\n",
    "    # El metodo init es llamado al crear el objeto\n",
    "    def __init__(self, nombre, especie):\n",
    "        print(\"Creando pinguino: \" + \"'\" + nombre + \"',\" + especie)\n",
    "\n",
    "        # Atributos de instancia\n",
    "        self.nombre = nombre\n",
    "        self.especie = especie\n",
    "\n",
    "    # Definir metodos\n",
    "    def nada(self):\n",
    "        print(\"Wooooshhhh!!!!\")\n",
    "\n",
    "    def camina(self, pasos):\n",
    "        print(\"Caminando \" + pasos + \" pasos, lenta y torpemente\")\n",
    "\n",
    "    def come(self, comida):\n",
    "        print(\"El pinguino esta comiendo \" + comida)\n",
    "\n",
    "# Creando un objeto\n",
    "mi_pinguino_01 = Pinguino(\"Santi\", \"Rey\")\n",
    "\n",
    "# Llamando atributos\n",
    "print(mi_pinguino_01.nombre)\n",
    "print(mi_pinguino_01.especie)\n",
    "\n",
    "# Llamando metodos\n",
    "mi_pinguino_01.nada()\n",
    "mi_pinguino_01.camina(\"99\")\n",
    "mi_pinguino_01.come(\"sushi\")"
   ]
  },
  {
   "cell_type": "markdown",
   "metadata": {},
   "source": [
    "# Challenge\n",
    "\n",
    "Crear dos metodos por animal, que sea hablar y moverse.\n",
    "\n",
    "- En el metodo hablar, imprimir: \"Cuando hablo, digo X.\"\n",
    "- En el metodo mover, imprimir: \"Cuando me muevo, hago X\""
   ]
  },
  {
   "cell_type": "code",
   "execution_count": 27,
   "metadata": {},
   "outputs": [
    {
     "name": "stdout",
     "output_type": "stream",
     "text": [
      "Me llamo 'Timo' y soy un mamifero de color blanco y negro\n",
      "Me llamo 'Piolin' y soy un ave de color amarillo\n",
      "Me llamo 'Silvestre' y soy un mamifero de color blanco y negro\n",
      "Me llamo 'Tom' y soy un mamifero de color gris\n",
      "Me llamo 'Woodstock' y soy un ave de color amarillo\n",
      "Cuando hablo digo que soy el gato de Paola\n",
      "Cuando me muevo, hago el saludo al sol\n",
      "Cuando hablo digo que persigo a Piolin\n",
      "Te voy a cantar una cancion, ...Yo se bien que estoy afuera, pero el dia que yo me muera, yo se que vas a llorar...\n",
      "Cuando hablo digo que soy el canario de Snoopy\n"
     ]
    }
   ],
   "source": [
    "# Crear clase\n",
    "class Canario:\n",
    "    # Definiendo un atributo de clase\n",
    "    especie = \"ave\"\n",
    "\n",
    "    # El metodo__init__ es llamado al crear el objeto\n",
    "    def __init__(self, nombre, color):\n",
    "        print(\"Me llamo \" + \"'\" + nombre + \"' y soy un ave de color \" + color)\n",
    "\n",
    "        # Atributos de instancia\n",
    "        self.nombre = nombre \n",
    "        self.color = color\n",
    "\n",
    "        # Definir metodos\n",
    "    def habla(self, charlataneria):\n",
    "        print(\"Cuando hablo digo \" + charlataneria)\n",
    "\n",
    "    def se_mueve(self, yoga):\n",
    "        print(\"Cuando me muevo, hago \" + yoga)\n",
    "\n",
    "    def canta(self, cancion):\n",
    "        print(\"Te voy a cantar una cancion, \" + cancion)\n",
    "\n",
    "# Crear clase\n",
    "class Gato:\n",
    "    # Definiendo un atributo de clase\n",
    "    especie = \"mamifero\"\n",
    "\n",
    "    # El metodo__init__ es llamado al crear el objeto\n",
    "    def __init__(self, nombre, color):\n",
    "        print(\"Me llamo \" + \"'\" + nombre + \"' y soy un mamifero de color \" + color)\n",
    "\n",
    "        # Atributos de instancia\n",
    "        self.nombre = nombre \n",
    "        self.color = color\n",
    "    \n",
    "        # Definir metodos\n",
    "    def habla(self, charlataneria):\n",
    "        print(\"Cuando hablo digo \" + charlataneria)\n",
    "\n",
    "    def se_mueve(self, yoga):\n",
    "        print(\"Cuando me muevo, hago \" + yoga)\n",
    "\n",
    "    def canta(self, cancion):\n",
    "        print(\"Te voy a cantar una cancion, \" + cancion)\n",
    "  \n",
    "# Creando animales\n",
    "mi_gato = Gato(\"Timo\", \"blanco y negro\")\n",
    "piolin = Canario(\"Piolin\", \"amarillo\")\n",
    "silvestre = Gato(\"Silvestre\", \"blanco y negro\")\n",
    "tom = Gato(\"Tom\", \"gris\")\n",
    "woodstock = Canario(\"Woodstock\", \"amarillo\")\n",
    "\n",
    "# Llamando metodos\n",
    "mi_gato.habla(\"que soy el gato de Paola\")\n",
    "mi_gato.habla(\"te quiero mucho\")\n",
    "piolin.se_mueve(\"el saludo al sol\")\n",
    "silvestre.habla(\"que persigo a Piolin\")\n",
    "tom.canta(\"...Yo se bien que estoy afuera, pero el dia que yo me muera, yo se que vas a llorar...\")\n",
    "woodstock.habla(\"que soy el canario de Snoopy\")"
   ]
  },
  {
   "cell_type": "markdown",
   "metadata": {},
   "source": [
    "# Herencia"
   ]
  },
  {
   "cell_type": "code",
   "execution_count": 32,
   "metadata": {},
   "outputs": [
    {
     "name": "stdout",
     "output_type": "stream",
     "text": [
      "(<class '__main__.Animal'>,)\n",
      "(<class 'object'>,)\n",
      "Piton\n",
      "10\n",
      "SSSSsssSsSSsSS\n",
      "soy un animal del tipo Serpiente\n"
     ]
    }
   ],
   "source": [
    "class Animal:\n",
    "    def __init__(self, especie, edad):\n",
    "        self.especie = especie\n",
    "        self.edad = edad\n",
    "\n",
    "    # Metodo generico pero con implementacion particular\n",
    "    def hablar(self):\n",
    "        # Metodo vacio\n",
    "        pass\n",
    "\n",
    "    # Metodo generico con la misma implementacion\n",
    "    def describeme(self):\n",
    "        print(\"soy un animal del tipo\", type(self).__name__)\n",
    "\n",
    "class Serpiente(Animal):\n",
    "    # Definiendo un atributo de clase\n",
    "    categoria = \"reptil\"\n",
    "    \n",
    "    def hablar(self):\n",
    "        print(\"SSSSsssSsSSsSS\")\n",
    "\n",
    "# Corroborar la herencia\n",
    "print(Serpiente.__bases__)\n",
    "print(Animal.__bases__)\n",
    "\n",
    "mi_serpiente = Serpiente(\"Piton\", 10)\n",
    "print(mi_serpiente.especie)\n",
    "print(mi_serpiente.edad)\n",
    "mi_serpiente.hablar()\n",
    "mi_serpiente.describeme()"
   ]
  },
  {
   "cell_type": "markdown",
   "metadata": {},
   "source": [
    "# Challenge\n",
    "\n",
    "Definir una clase principal que herede a sus subclases dos atributos de instancia. Mostrar ambos atributos en pantalla desde los objetos de las subclases.\n",
    "\n",
    "Observacion: Editar las subclases para que no se inicialicen."
   ]
  },
  {
   "cell_type": "code",
   "execution_count": 40,
   "metadata": {},
   "outputs": [
    {
     "name": "stdout",
     "output_type": "stream",
     "text": [
      "blanco\n",
      "rugoso\n",
      "alba\n",
      "🎨\n",
      "soy una pintura Anti_Moho\n",
      "granate\n",
      "liso\n",
      "tricolor\n",
      "🎨\n",
      "soy una pintura Para_Exterior\n"
     ]
    }
   ],
   "source": [
    "class Pintura:\n",
    "    def __init__(self, color, textura, marca):\n",
    "        self.color = color\n",
    "        self.textura = textura\n",
    "        self.marca = marca\n",
    "\n",
    "    def pintar(self):\n",
    "        print(\"🎨\")\n",
    "\n",
    "    def describeme(self):\n",
    "        print(\"soy una pintura\", type(self).__name__)\n",
    "\n",
    "class Anti_Moho(Pintura):\n",
    "    categoria = \"anti_moho\"\n",
    "    \n",
    "class Para_Exterior(Pintura):\n",
    "    categoria = \"para_exterior\"\n",
    "\n",
    "\n",
    "mi_pintura = Anti_Moho(\"blanco\", \"rugoso\", \"alba\")\n",
    "mi_pintura_de_afuera = Para_Exterior(\"granate\", \"liso\", \"tricolor\")\n",
    "\n",
    "print(mi_pintura.color)\n",
    "print(mi_pintura.textura)\n",
    "print(mi_pintura.marca)\n",
    "mi_pintura.pintar()\n",
    "mi_pintura.describeme()\n",
    "print(mi_pintura_de_afuera.color)\n",
    "print(mi_pintura_de_afuera.textura)\n",
    "print(mi_pintura_de_afuera.marca)\n",
    "mi_pintura_de_afuera.pintar()\n",
    "mi_pintura_de_afuera.describeme()\n",
    "\n",
    "\n"
   ]
  },
  {
   "cell_type": "markdown",
   "metadata": {},
   "source": [
    "# DRY = Don't Repeat Yourself"
   ]
  },
  {
   "cell_type": "markdown",
   "metadata": {},
   "source": [
    "---"
   ]
  },
  {
   "cell_type": "markdown",
   "metadata": {},
   "source": [
    "# Diccionarios "
   ]
  },
  {
   "cell_type": "code",
   "execution_count": 51,
   "metadata": {},
   "outputs": [
    {
     "name": "stdout",
     "output_type": "stream",
     "text": [
      "{'nombre': 'Enmanuel', 'apellido': 'Rufinelli', 'email': 'e@fufinelli'}\n",
      "{'nombre': 'Enmanuel', 'apellido': 'Rufinelli', 'email': 'e@fufinelli', 'barrio': 'Los Laureles'}\n",
      "{'nombre': 'Enmanuel', 'apellido': 'Rufinelli', 'email': 'e@fufinelli', 'barrio': 'Recoleta'}\n",
      "{'nombre': 'Enmanuel', 'apellido': 'Rufinelli', 'email': 'e@fufinelli'}\n",
      "{'apellido': 'Rufinelli', 'email': 'e@fufinelli'}\n"
     ]
    }
   ],
   "source": [
    "# Ejemplo de diccionario\n",
    "\n",
    "mi_contacto = {\"nombre\": \"Enmanuel\",\"apellido\":\"Rufinelli\", \"email\":\"e@fufinelli\"}\n",
    "\n",
    "# Ejemplo de diccionario estilizado\n",
    "{\n",
    "    \"nombre\": \"Enmanuel\",\n",
    "    \"apellido\":\"Rufinelli\", \n",
    "    \"email\":\"e@fufinelli\"\n",
    "}\n",
    "\n",
    "# Imprimir el diccionario\n",
    "print(mi_contacto)\n",
    "\n",
    "# Acceder a datos del diccionario\n",
    "mi_contacto[\"nombre\"]\n",
    "\n",
    "# Desplegar datos del diccionario\n",
    "mi_contacto.keys()\n",
    "mi_contacto.values()\n",
    "mi_contacto.items()\n",
    "\n",
    "# Añadir datos al diccionario\n",
    "mi_contacto[\"barrio\"] = \"Los Laureles\"\n",
    "print(mi_contacto)\n",
    "\n",
    "# Actualizar datos del diccionario\n",
    "mi_contacto[\"barrio\"] = \"Recoleta\"\n",
    "print(mi_contacto)\n",
    "\n",
    "# Eliminar datos del diccionario\n",
    "mi_contacto.popitem()\n",
    "print(mi_contacto)\n",
    "\n",
    "del mi_contacto[\"nombre\"]\n",
    "print(mi_contacto)"
   ]
  },
  {
   "cell_type": "markdown",
   "metadata": {},
   "source": [
    "# Challenge\n",
    "\n",
    "Escribir un programa que cree un diccionario vacio y lo vaya llenando con informacion sobre una persona (por ejemplo nombre, edad, sexo, telefono, correo electronico, etc.) que se le pida al usuario. Cada vez que se añada un nuevo dato debe imprimirse el contenido del diccionario."
   ]
  },
  {
   "cell_type": "code",
   "execution_count": 68,
   "metadata": {},
   "outputs": [
    {
     "name": "stdout",
     "output_type": "stream",
     "text": [
      "{'nombre': 'f'}\n",
      "{'nombre': 'f', 'apellido': 'f'}\n",
      "{'nombre': 'f', 'apellido': 'f', 'edad': 'f'}\n",
      "{'nombre': 'f', 'apellido': 'f', 'edad': 'f', 'sexo': 'f'}\n",
      "{'nombre': 'f', 'apellido': 'f', 'edad': 'f', 'sexo': 'f', 'telefono': 'f'}\n",
      "{'nombre': 'f', 'apellido': 'f', 'edad': 'f', 'sexo': 'f', 'telefono': 'f', 'email': 'f'}\n",
      "[{'nombre': 'f', 'apellido': 'f', 'edad': 'f', 'sexo': 'f', 'telefono': 'f', 'email': 'f'}]\n",
      "{'nombre': 'f', 'apellido': 'f', 'edad': 'f', 'sexo': 'f', 'telefono': 'f', 'email': 'f'}\n",
      "{'nombre': 'f', 'apellido': 'f', 'edad': 'f', 'sexo': 'f', 'telefono': 'f', 'email': 'f'}\n",
      "{'nombre': 'f', 'apellido': 'f', 'edad': 'f', 'sexo': 'f', 'telefono': 'f', 'email': 'f'}\n",
      "{'nombre': 'f', 'apellido': 'f', 'edad': 'f', 'sexo': 'f', 'telefono': 'f', 'email': 'f'}\n",
      "{'nombre': 'f', 'apellido': 'f', 'edad': 'f', 'sexo': 'f', 'telefono': 'f', 'email': 'f'}\n",
      "{'nombre': 'f', 'apellido': 'f', 'edad': 'f', 'sexo': 'f', 'telefono': 'f', 'email': 'f'}\n",
      "[{'nombre': 'f', 'apellido': 'f', 'edad': 'f', 'sexo': 'f', 'telefono': 'f', 'email': 'f'}, {'nombre': 'f', 'apellido': 'f', 'edad': 'f', 'sexo': 'f', 'telefono': 'f', 'email': 'f'}]\n",
      "{'nombre': 'f', 'apellido': 'f', 'edad': 'f', 'sexo': 'f', 'telefono': 'f', 'email': 'f'}\n",
      "{'nombre': 'f', 'apellido': 'f', 'edad': 'f', 'sexo': 'f', 'telefono': 'f', 'email': 'f'}\n",
      "{'nombre': 'f', 'apellido': 'f', 'edad': 'f', 'sexo': 'f', 'telefono': 'f', 'email': 'f'}\n",
      "{'nombre': 'f', 'apellido': 'f', 'edad': 'f', 'sexo': 'd', 'telefono': 'f', 'email': 'f'}\n",
      "{'nombre': 'f', 'apellido': 'f', 'edad': 'f', 'sexo': 'd', 'telefono': 'f', 'email': 'f'}\n",
      "{'nombre': 'f', 'apellido': 'f', 'edad': 'f', 'sexo': 'd', 'telefono': 'f', 'email': 'd'}\n",
      "[{'nombre': 'f', 'apellido': 'f', 'edad': 'f', 'sexo': 'd', 'telefono': 'f', 'email': 'd'}, {'nombre': 'f', 'apellido': 'f', 'edad': 'f', 'sexo': 'd', 'telefono': 'f', 'email': 'd'}, {'nombre': 'f', 'apellido': 'f', 'edad': 'f', 'sexo': 'd', 'telefono': 'f', 'email': 'd'}]\n",
      "{'nombre': 'f', 'apellido': 'f', 'edad': 'f', 'sexo': 'd', 'telefono': 'f', 'email': 'd'}\n",
      "{'nombre': 'f', 'apellido': 'd', 'edad': 'f', 'sexo': 'd', 'telefono': 'f', 'email': 'd'}\n",
      "{'nombre': 'f', 'apellido': 'd', 'edad': 'f', 'sexo': 'd', 'telefono': 'f', 'email': 'd'}\n",
      "{'nombre': 'f', 'apellido': 'd', 'edad': 'f', 'sexo': 's', 'telefono': 'f', 'email': 'd'}\n",
      "{'nombre': 'f', 'apellido': 'd', 'edad': 'f', 'sexo': 's', 'telefono': 'f', 'email': 'd'}\n",
      "{'nombre': 'f', 'apellido': 'd', 'edad': 'f', 'sexo': 's', 'telefono': 'f', 'email': 'd'}\n",
      "[{'nombre': 'f', 'apellido': 'd', 'edad': 'f', 'sexo': 's', 'telefono': 'f', 'email': 'd'}, {'nombre': 'f', 'apellido': 'd', 'edad': 'f', 'sexo': 's', 'telefono': 'f', 'email': 'd'}, {'nombre': 'f', 'apellido': 'd', 'edad': 'f', 'sexo': 's', 'telefono': 'f', 'email': 'd'}, {'nombre': 'f', 'apellido': 'd', 'edad': 'f', 'sexo': 's', 'telefono': 'f', 'email': 'd'}]\n",
      "{'nombre': 'f', 'apellido': 'd', 'edad': 'f', 'sexo': 's', 'telefono': 'f', 'email': 'd'}\n",
      "{'nombre': 'f', 'apellido': 'd', 'edad': 'f', 'sexo': 's', 'telefono': 'f', 'email': 'd'}\n",
      "{'nombre': 'f', 'apellido': 'd', 'edad': 'f', 'sexo': 's', 'telefono': 'f', 'email': 'd'}\n",
      "{'nombre': 'f', 'apellido': 'd', 'edad': 'f', 'sexo': 'd', 'telefono': 'f', 'email': 'd'}\n",
      "{'nombre': 'f', 'apellido': 'd', 'edad': 'f', 'sexo': 'd', 'telefono': 'f', 'email': 'd'}\n",
      "{'nombre': 'f', 'apellido': 'd', 'edad': 'f', 'sexo': 'd', 'telefono': 'f', 'email': 'e'}\n",
      "[{'nombre': 'f', 'apellido': 'd', 'edad': 'f', 'sexo': 'd', 'telefono': 'f', 'email': 'e'}, {'nombre': 'f', 'apellido': 'd', 'edad': 'f', 'sexo': 'd', 'telefono': 'f', 'email': 'e'}, {'nombre': 'f', 'apellido': 'd', 'edad': 'f', 'sexo': 'd', 'telefono': 'f', 'email': 'e'}, {'nombre': 'f', 'apellido': 'd', 'edad': 'f', 'sexo': 'd', 'telefono': 'f', 'email': 'e'}, {'nombre': 'f', 'apellido': 'd', 'edad': 'f', 'sexo': 'd', 'telefono': 'f', 'email': 'e'}]\n"
     ]
    }
   ],
   "source": [
    "agenda = {}\n",
    "lista_agenda = []\n",
    "contador = 0\n",
    "\n",
    "while contador != 5:\n",
    "    nombre = input(\"Ingrese su nombre\")\n",
    "    agenda[\"nombre\"] = nombre\n",
    "    print(agenda)\n",
    "    apellido = input(\"Ingrese su apellido\")\n",
    "    agenda[\"apellido\"] = apellido\n",
    "    print(agenda)\n",
    "    edad = input(\"Ingrese su edad\")\n",
    "    agenda[\"edad\"] = edad\n",
    "    print(agenda)\n",
    "    sexo = input(\"Ingrese su sexo\")\n",
    "    agenda[\"sexo\"] = sexo\n",
    "    print(agenda)\n",
    "    telefono = input(\"Ingrese su numero de telefono\")\n",
    "    agenda[\"telefono\"] = telefono\n",
    "    print(agenda)\n",
    "    email = input(\"Ingrese su direccion de correo electronico\")\n",
    "    agenda[\"email\"] = email\n",
    "    print(agenda)\n",
    "    lista_agenda.append(agenda)\n",
    "    print(lista_agenda)\n",
    "    contador += 1\n",
    "\n",
    "\n"
   ]
  },
  {
   "cell_type": "code",
   "execution_count": 61,
   "metadata": {},
   "outputs": [
    {
     "name": "stdout",
     "output_type": "stream",
     "text": [
      "{'nombre': 'Adrian'}\n",
      "{'nombre': 'Adrian', 'apellido': 'Valdez'}\n",
      "{'nombre': 'Adrian', 'apellido': 'Valdez', 'edad': '32'}\n",
      "{'nombre': 'Adrian', 'apellido': 'Valdez', 'edad': '32', 'sexo': 'masculino'}\n",
      "{'nombre': 'Adrian', 'apellido': 'Valdez', 'edad': '32', 'sexo': 'masculino', 'telefono': '8392024'}\n",
      "{'nombre': 'Adrian', 'apellido': 'Valdez', 'edad': '32', 'sexo': 'masculino', 'telefono': '8392024', 'email': 'adrian@gmail.com'}\n"
     ]
    }
   ],
   "source": [
    "agenda = {}\n",
    "\n",
    "while True:\n",
    "    nombre = input(\"Ingrese su nombre\")\n",
    "    agenda[\"nombre\"] = nombre\n",
    "    print(agenda)\n",
    "    apellido = input(\"Ingrese su apellido\")\n",
    "    agenda[\"apellido\"] = apellido\n",
    "    print(agenda)\n",
    "    edad = input(\"Ingrese su edad\")\n",
    "    agenda[\"edad\"] = edad\n",
    "    print(agenda)\n",
    "    sexo = input(\"Ingrese su sexo\")\n",
    "    agenda[\"sexo\"] = sexo\n",
    "    print(agenda)\n",
    "    telefono = input(\"Ingrese su numero de telefono\")\n",
    "    agenda[\"telefono\"] = telefono\n",
    "    print(agenda)\n",
    "    email = input(\"Ingrese su direccion de correo electronico\")\n",
    "    agenda[\"email\"] = email\n",
    "    print(agenda)\n",
    "    break"
   ]
  },
  {
   "cell_type": "markdown",
   "metadata": {},
   "source": [
    "# Challenge\n",
    "\n",
    "Crear una tarjeta personal. El usuario (mediante input) puede elegir:\n",
    "\n",
    "1. Crear datos nuevos\n",
    "2. Modificar datos\n",
    "3. Eliminar datos"
   ]
  },
  {
   "cell_type": "code",
   "execution_count": 73,
   "metadata": {},
   "outputs": [
    {
     "name": "stdout",
     "output_type": "stream",
     "text": [
      "{'nombre': 'Paola'}\n",
      "{'nombre': 'Paola', 'apellido': 'Ortiz'}\n",
      "{'nombre': 'Paola', 'apellido': 'Ortiz', 'edad': '33'}\n",
      "{'nombre': 'Paola', 'apellido': 'Ortiz', 'edad': '33', 'sexo': 'femenino'}\n",
      "{'nombre': 'Paola', 'apellido': 'Ortiz', 'edad': '33', 'sexo': 'femenino', 'telefono': '432143'}\n",
      "{'nombre': 'Paola', 'apellido': 'Ortiz', 'edad': '33', 'sexo': 'femenino', 'telefono': '432143', 'email': '432142'}\n",
      "{'nombre': 'Paola', 'apellido': 'Ortiz', 'edad': '33', 'sexo': 'femenino', 'telefono': '432143', 'email': 'ortiz.triguis@gmail.com'}\n",
      "{'nombre': 'Paola', 'apellido': 'Ortiz', 'edad': '33', 'sexo': 'femenino', 'email': 'ortiz.triguis@gmail.com'}\n"
     ]
    }
   ],
   "source": [
    "agenda = {}\n",
    "\n",
    "while True:\n",
    "    nombre = input(\"Ingrese su nombre\")\n",
    "    agenda[\"nombre\"] = nombre\n",
    "    print(agenda)\n",
    "    apellido = input(\"Ingrese su apellido\")\n",
    "    agenda[\"apellido\"] = apellido\n",
    "    print(agenda)\n",
    "    edad = input(\"Ingrese su edad\")\n",
    "    agenda[\"edad\"] = edad\n",
    "    print(agenda)\n",
    "    sexo = input(\"Ingrese su sexo\")\n",
    "    agenda[\"sexo\"] = sexo\n",
    "    print(agenda)\n",
    "    telefono = input(\"Ingrese su numero de telefono\")\n",
    "    agenda[\"telefono\"] = telefono\n",
    "    print(agenda)\n",
    "    email = input(\"Ingrese su direccion de correo electronico\")\n",
    "    agenda[\"email\"] = email\n",
    "    print(agenda)\n",
    "    break\n",
    "    \n",
    "modificar = input(\"Desea modificar alguno de sus datos?\")\n",
    "if modificar == \"Si\" or modificar == \"si\":\n",
    "    modificacion = input(\"Que dato quiere modificar? (nombre, apellido, edad, sexo, telefono, email)\")\n",
    "    nuevo_dato = input(\"Ingrese el dato actualizado\")\n",
    "    agenda[modificacion.lower()] = nuevo_dato.lower()\n",
    "    print(agenda)\n",
    "else:\n",
    "    print(agenda)\n",
    "    \n",
    "eliminar = input(\"Desea eliminar alguno de sus datos?\")\n",
    "if eliminar == \"Si\" or modificar == \"si\":\n",
    "    eliminacion = input(\"Que dato quiere eliminar? (nombre, apellido, edad, sexo, telefono, email)\")\n",
    "    del agenda[eliminacion.lower()]\n",
    "    print(agenda)\n",
    "else:\n",
    "    print(agenda)\n"
   ]
  }
 ],
 "metadata": {
  "interpreter": {
   "hash": "b990a3571c3fd9b7e25744035060680d5412a5ffcd1472b2ec31ca40df9a541f"
  },
  "kernelspec": {
   "display_name": "Python 3.10.4 64-bit (windows store)",
   "language": "python",
   "name": "python3"
  },
  "language_info": {
   "codemirror_mode": {
    "name": "ipython",
    "version": 3
   },
   "file_extension": ".py",
   "mimetype": "text/x-python",
   "name": "python",
   "nbconvert_exporter": "python",
   "pygments_lexer": "ipython3",
   "version": "3.10.4"
  },
  "orig_nbformat": 4
 },
 "nbformat": 4,
 "nbformat_minor": 2
}
