{
 "cells": [
  {
   "cell_type": "markdown",
   "metadata": {},
   "source": [
    "# Diccionarios\n"
   ]
  },
  {
   "cell_type": "code",
   "execution_count": 2,
   "metadata": {},
   "outputs": [
    {
     "name": "stdout",
     "output_type": "stream",
     "text": [
      "{'nombre': 'Paola'}\n",
      "{'nombre': 'Paola', 'apellido': 'Ortiz'}\n",
      "{'nombre': 'Paola', 'apellido': 'Ortiz', 'email': 'paola@ortiz.com'}\n"
     ]
    }
   ],
   "source": [
    "agenda = {}\n",
    "\n",
    "while True:\n",
    "    nombre = input(\"Ingrese su nombre\")\n",
    "    agenda[\"nombre\"] = nombre\n",
    "    print(agenda)\n",
    "    apellido = input(\"Ingrese su apellido\")\n",
    "    agenda[\"apellido\"] = apellido\n",
    "    print(agenda)\n",
    "    email = input(\"Ingrese su direccion de correo electronico\")\n",
    "    agenda[\"email\"] = email\n",
    "    print(agenda)\n",
    "    break"
   ]
  },
  {
   "cell_type": "code",
   "execution_count": 3,
   "metadata": {},
   "outputs": [
    {
     "name": "stdout",
     "output_type": "stream",
     "text": [
      "{'nombre': 'Paola', 'apellido': 'Ortiz', 'email': 'paola@ortiz.com'}\n"
     ]
    }
   ],
   "source": [
    "datos_personales = {'nombre': 'Paola', 'apellido': 'Ortiz', 'email': 'paola@ortiz.com'}\n",
    "print(datos_personales)"
   ]
  },
  {
   "cell_type": "markdown",
   "metadata": {},
   "source": [
    "# Ejercicio\n",
    "\n",
    "Agregar al diccionario anterior la clave \"hobbie\" y rellenar con datos personales para crear la siguiente concatenacion: \"Hola, mi nombre es nombre, me gusta hobbie y estoy aca para aprender lo basico del desarrollo web\"."
   ]
  },
  {
   "cell_type": "code",
   "execution_count": 5,
   "metadata": {},
   "outputs": [
    {
     "name": "stdout",
     "output_type": "stream",
     "text": [
      "{'nombre': 'Paola', 'apellido': 'Ortiz', 'email': 'paola@ortiz.com', 'hobbie': 'Tocar el piano'}\n",
      "Hola, mi nombre es Paola, me gusta Tocar el piano y estoy aca para aprender lo basico del desarrollo web\n"
     ]
    }
   ],
   "source": [
    "agenda[\"hobbie\"] = input(\"Cual es tu hobbie?\")\n",
    "print(agenda)\n",
    "print(\"Hola, mi nombre es \" + agenda[\"nombre\"] + \", me gusta \" + agenda[\"hobbie\"] + \" y estoy aca para aprender lo basico del desarrollo web\")\n"
   ]
  },
  {
   "cell_type": "code",
   "execution_count": 7,
   "metadata": {},
   "outputs": [
    {
     "name": "stdout",
     "output_type": "stream",
     "text": [
      "Hola, mi nombre es Paola, me gusta Tocar el piano, y estoy aca para aprender lo basico del desarrollo web\n"
     ]
    }
   ],
   "source": [
    "mi_frase = f\"Hola, mi nombre es {agenda['nombre']}, me gusta {agenda['hobbie']}, y estoy aca para aprender lo basico del desarrollo web\"\n",
    "print(mi_frase)"
   ]
  },
  {
   "cell_type": "markdown",
   "metadata": {},
   "source": [
    "# Librerias\n",
    "\n",
    "Codigo externo que realiza funciones de apoyo a nuestro codigo. Se compone de la palabra reservada import.\n",
    "\n",
    "import x (Importa la libreria completa, time, requests)\n",
    "import x as alias (Importa la liberia y se referencia con otro nombre)"
   ]
  },
  {
   "cell_type": "code",
   "execution_count": 35,
   "metadata": {},
   "outputs": [
    {
     "name": "stdout",
     "output_type": "stream",
     "text": [
      "http://www.omdbapi.com/?apikey=889bd3eb&t=Avengers\n",
      "<Response [200]>\n",
      "{'Actors': 'Robert Downey Jr., Chris Evans, Scarlett Johansson',\n",
      " 'Awards': 'Nominated for 1 Oscar. 38 wins & 80 nominations total',\n",
      " 'BoxOffice': '$623,357,910',\n",
      " 'Country': 'United States',\n",
      " 'DVD': '25 Sep 2012',\n",
      " 'Director': 'Joss Whedon',\n",
      " 'Genre': 'Action, Adventure, Sci-Fi',\n",
      " 'Language': 'English, Russian, Hindi',\n",
      " 'Metascore': '69',\n",
      " 'Plot': \"Earth's mightiest heroes must come together and learn to fight as a \"\n",
      "         'team if they are going to stop the mischievous Loki and his alien '\n",
      "         'army from enslaving humanity.',\n",
      " 'Poster': 'https://m.media-amazon.com/images/M/MV5BNDYxNjQyMjAtNTdiOS00NGYwLWFmNTAtNThmYjU5ZGI2YTI1XkEyXkFqcGdeQXVyMTMxODk2OTU@._V1_SX300.jpg',\n",
      " 'Production': 'N/A',\n",
      " 'Rated': 'PG-13',\n",
      " 'Ratings': [{'Source': 'Internet Movie Database', 'Value': '8.0/10'},\n",
      "             {'Source': 'Rotten Tomatoes', 'Value': '91%'},\n",
      "             {'Source': 'Metacritic', 'Value': '69/100'}],\n",
      " 'Released': '04 May 2012',\n",
      " 'Response': 'True',\n",
      " 'Runtime': '143 min',\n",
      " 'Title': 'The Avengers',\n",
      " 'Type': 'movie',\n",
      " 'Website': 'N/A',\n",
      " 'Writer': 'Joss Whedon, Zak Penn',\n",
      " 'Year': '2012',\n",
      " 'imdbID': 'tt0848228',\n",
      " 'imdbRating': '8.0',\n",
      " 'imdbVotes': '1,350,699'}\n",
      "-------------------------------------------------------------------------------------------------------------------\n",
      "Robert Downey Jr., Chris Evans, Scarlett Johansson\n",
      "https://m.media-amazon.com/images/M/MV5BNDYxNjQyMjAtNTdiOS00NGYwLWFmNTAtNThmYjU5ZGI2YTI1XkEyXkFqcGdeQXVyMTMxODk2OTU@._V1_SX300.jpg\n",
      "$623,357,910\n",
      "623,357,910\n",
      "623357910\n",
      "-------------------------------------------------------------------------------------------------------------------\n",
      "{'dolarpy': {'amambay': {'compra': 0.0, 'venta': 0.0},\n",
      "             'bcp': {'compra': 6834.82,\n",
      "                     'referencial_diario': 6842.25,\n",
      "                     'venta': 6833.4},\n",
      "             'bonanza': {'compra': 6810.0, 'venta': 6860.0},\n",
      "             'cambiosalberdi': {'compra': 0.0, 'venta': 0.0},\n",
      "             'cambioschaco': {'compra': 6800.0, 'venta': 6870.0},\n",
      "             'eurocambios': {'compra': 6800.0, 'venta': 6860.0},\n",
      "             'gnbfusion': {'compra': 6740.0, 'venta': 6910.0},\n",
      "             'interfisa': {'compra': 0.0, 'venta': 0.0},\n",
      "             'lamoneda': {'compra': 0.0, 'venta': 0.0},\n",
      "             'maxicambios': {'compra': 6770.0, 'venta': 6870.0},\n",
      "             'mundialcambios': {'compra': 6790.0, 'venta': 6880.0},\n",
      "             'mydcambios': {'compra': 6825.0, 'venta': 6860.0},\n",
      "             'set': {'compra': 6839.0, 'venta': 6840.0},\n",
      "             'vision': {'compra': 6770.0, 'venta': 6900.0}},\n",
      " 'updated': '2022-04-28 14:00:17'}\n",
      "6870.0\n",
      "4,282,468,841,700.0\n",
      "Lo recaudado por la pelicula Avengersen Gs. es: 4,282,468,841,700.0\n"
     ]
    }
   ],
   "source": [
    "import requests\n",
    "from pprint import pprint # Para que el JSON se vea mas legible\n",
    "\n",
    "API_KEY = \"889bd3eb\" # Activamos una API key en IMDB\n",
    "\n",
    "# Creamos los parametrs\n",
    "titulo = \"Avengers\"\n",
    "# Se crea una URL de consulta\n",
    "URL = \"http://www.omdbapi.com/?apikey=\"+API_KEY+\"&t=\"+titulo\n",
    "print(URL) # Imprimo el valor de donde hare la consulta\n",
    "\n",
    "# Extraemos todos los datos_de_pelicula recibidos y convertimos en un diccionario\n",
    "datos_de_pelicula = requests.get(URL)\n",
    "print(datos_de_pelicula)\n",
    "datos_de_pelicula = datos_de_pelicula.json() # Sobreescribimos datos_de_pelicula con nuevos datos convertidos en formato json\n",
    "pprint(datos_de_pelicula)\n",
    "print(\"-------------------------------------------------------------------------------------------------------------------\")\n",
    "\n",
    "# Extraer e imprimir del diccionario creado anteriormente los siguientes datos:\n",
    "# Actores\n",
    "# Poster de la pelicula\n",
    "# BoxOffice\n",
    "print(datos_de_pelicula['Actors'])\n",
    "print(datos_de_pelicula['Poster'])\n",
    "print(datos_de_pelicula['BoxOffice'])\n",
    "\n",
    "recaudacion = datos_de_pelicula['BoxOffice']\n",
    "\n",
    "# Forma 1: Limpiar el $\n",
    "quitar_excedente = recaudacion[1:]\n",
    "print(quitar_excedente)\n",
    "\n",
    "# Forma 2: Replace\n",
    "quitar_caracter = recaudacion.replace(\"$\", \"\").replace(\",\",\"\")\n",
    "print(quitar_caracter)\n",
    "\n",
    "monto_recaudado_en_USD = int(quitar_caracter)\n",
    "print(\"-------------------------------------------------------------------------------------------------------------------\")\n",
    "\n",
    "llamada_a_datos = \"https://dolar.melizeche.com/api/1.0/\"\n",
    "obtencion_datos = requests.get(llamada_a_datos)\n",
    "datos_dolarpy = obtencion_datos.json()\n",
    "pprint(datos_dolarpy)\n",
    "\n",
    "cambios_chaco_venta = datos_dolarpy['dolarpy']['cambioschaco']['venta']\n",
    "print(cambios_chaco_venta)\n",
    "\n",
    "# Ejercicio: Multiplicar el dato obtenido de dolar_py por el recaudado de la pelicula e imprimir lo siguiente:\n",
    "# \"Lo recaudado por la pelicula [nombre de la pelicula] en Gs. es: [Monto total en Gs.]\"\n",
    "en_guaranies = monto_recaudado_en_USD * cambios_chaco_venta\n",
    "con_coma = f'{en_guaranies:,}'\n",
    "print(con_coma)\n",
    "print(\"Lo recaudado por la pelicula \" + str(titulo) + \"en Gs. es: \" + str(con_coma))\n"
   ]
  },
  {
   "cell_type": "markdown",
   "metadata": {},
   "source": []
  }
 ],
 "metadata": {
  "interpreter": {
   "hash": "b990a3571c3fd9b7e25744035060680d5412a5ffcd1472b2ec31ca40df9a541f"
  },
  "kernelspec": {
   "display_name": "Python 3.10.4 64-bit (windows store)",
   "language": "python",
   "name": "python3"
  },
  "language_info": {
   "codemirror_mode": {
    "name": "ipython",
    "version": 3
   },
   "file_extension": ".py",
   "mimetype": "text/x-python",
   "name": "python",
   "nbconvert_exporter": "python",
   "pygments_lexer": "ipython3",
   "version": "3.10.4"
  },
  "orig_nbformat": 4
 },
 "nbformat": 4,
 "nbformat_minor": 2
}
